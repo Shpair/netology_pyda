{
 "cells": [
  {
   "cell_type": "markdown",
   "metadata": {},
   "source": [
    "**Задание 1**. Даны 2 строки: *long_phrase* и *short_phrase*. \n",
    "Напишите код, который проверяет действительно ли длинная фраза *long_phrase* длиннее короткой *short_phrase*. И выводит *True* или *False* в зависимости от результата сравнения."
   ]
  },
  {
   "cell_type": "code",
   "execution_count": 1,
   "metadata": {},
   "outputs": [],
   "source": [
    "long_phrase = 'Насколько проще было бы писать программы, если бы не заказчики'\n",
    "short_phrase = '640Кб должно хватить для любых задач. Билл Гейтс (по легенде)'"
   ]
  },
  {
   "cell_type": "code",
   "execution_count": 5,
   "metadata": {},
   "outputs": [
    {
     "data": {
      "text/plain": [
       "True"
      ]
     },
     "execution_count": 5,
     "metadata": {},
     "output_type": "execute_result"
    }
   ],
   "source": [
    "long_phrase = 'Насколько проще было бы писать программы, если бы не заказчики'\n",
    "short_phrase = '640Кб должно хватить для любых задач. Билл Гейтс (по легенде)'\n",
    "len (long_phrase) > len (short_phrase)"
   ]
  },
  {
   "cell_type": "markdown",
   "metadata": {},
   "source": [
    "**Задание 2**. Дано значение объема файла в байтах. Напишите перевод этого значения в мегабайты в формате: \"*Объем файла равен 213.68Mb*\""
   ]
  },
  {
   "cell_type": "code",
   "execution_count": 14,
   "metadata": {},
   "outputs": [
    {
     "name": "stdout",
     "output_type": "stream",
     "text": [
      "Введите значение объема файла в байтах1000000\n",
      "Объем файла равен 1.0 Mb\n"
     ]
    }
   ],
   "source": [
    "size_bytes = int (input ('Введите значение объема файла в байтах'))\n",
    "size_mbytes= size_bytes / 1000000\n",
    "print ('Объем файла равен', size_mbytes, 'Mb')"
   ]
  },
  {
   "cell_type": "markdown",
   "metadata": {},
   "source": [
    "**Задание 3**. Разработать приложение для определения знака зодиака по дате рождения. Пример:\n",
    "\n",
    "Введите месяц: март\n",
    "\n",
    "Введите число: 6\n",
    "\n",
    "Вывод:\n",
    "Рыбы"
   ]
  },
  {
   "cell_type": "code",
   "execution_count": 21,
   "metadata": {
    "scrolled": true
   },
   "outputs": [
    {
     "name": "stdout",
     "output_type": "stream",
     "text": [
      "Введите месяц:Декабрь\n",
      "Введите число:04\n",
      "Ты что-то нажал и всё сломалось. Проверь: месяц с маленькой буквы, число до 10 без 0 в начале\n"
     ]
    }
   ],
   "source": [
    "birth_month = input ('Введите месяц:')\n",
    "birth_day = int (input ('Введите число:'))\n",
    "if (birth_month == 'январь' and birth_day < 21) \\\n",
    "or (birth_month == 'декабрь' and 22 < birth_day < 32):\n",
    "    print ('Вывод: Козерог')\n",
    "elif (birth_month == 'февраль' and birth_day < 20) \\\n",
    "or (birth_month == 'январь' and 21 < birth_day < 32):\n",
    "    print ('Вывод: Водолей')\n",
    "elif (birth_month == 'март' and birth_day < 21) \\\n",
    "or (birth_month == 'февраль' and 19 < birth_day < 30):\n",
    "    print ('Вывод: Рыбы')\n",
    "elif (birth_month == 'апрель' and birth_day < 21) \\\n",
    "or (birth_month == 'март' and 21 < birth_day < 32):\n",
    "    print ('Вывод: Овен')\n",
    "elif (birth_month == 'май' and birth_day < 22) \\\n",
    "or (birth_month == 'апрель' and 20 < birth_day < 31):\n",
    "    print ('Вывод: Телец')\n",
    "elif (birth_month == 'июнь' and birth_day < 22) \\\n",
    "or (birth_month == 'май' and 21 < birth_day < 32):\n",
    "    print ('Вывод: Близнец')\n",
    "elif (birth_month == 'июль' and birth_day < 23) \\\n",
    "or (birth_month == 'июнь' and 22 < birth_day < 31):\n",
    "    print ('Вывод: Рак')\n",
    "elif (birth_month == 'август' and birth_day < 22) \\\n",
    "or (birth_month == 'июль' and 22 < birth_day < 32):\n",
    "    print ('Вывод: Лев')\n",
    "elif (birth_month == 'сентярь' and birth_day < 24) \\\n",
    "or (birth_month == 'август' and 21 < birth_day < 32):\n",
    "    print ('Вывод: Дева')\n",
    "elif (birth_month == 'октябрь' and birth_day < 24) \\\n",
    "or (birth_month == 'сентябрь' and 21 < birth_day < 31):\n",
    "    print ('Вывод: Весы')\n",
    "elif (birth_month == 'ноябрь' and birth_day < 23) \\\n",
    "or (birth_month == 'октябрь' and 23 < birth_day < 32):\n",
    "    print ('Вывод: Скорпион')\n",
    "elif (birth_month == 'декабрь' and birth_day < 23) \\\n",
    "or (birth_month == 'ноябрь' and 22 < birth_day < 31):\n",
    "    print ('Вывод: Стрелец')\n",
    "else:\n",
    "    print ('Ты что-то нажал и всё сломалось. Проверь: месяц с маленькой буквы, число до 10 без 0 в начале')"
   ]
  },
  {
   "cell_type": "markdown",
   "metadata": {},
   "source": [
    "**Задание 4**. Нужно разработать приложение для финансового планирования.\n",
    "Приложение учитывает сколько уходит на ипотеку, \"на жизнь\" и сколько нужно отложить на пенсию.\n",
    "Пользователь вводит:\n",
    "- заработанную плату в месяц.\n",
    "- сколько процентов от ЗП уходит на ипотеку.\n",
    "- сколько процентов от ЗП уходит \"на жизнь\".\n",
    "- сколько раз приходит премия в год.\n",
    "\n",
    "Остальная часть заработанной платы откладывается на пенсию.\n",
    "\n",
    "Также пользователю приходит премия в размере зарплаты, от которой половина уходит на отпуск, а вторая половина откладывается.\n",
    "\n",
    "Программа должна учитывать сколько премий было в год.\n",
    "\n",
    "Нужно вывести сколько денег тратит пользователь на ипотеку и сколько он накопит за год.\n",
    "\n",
    "Пример:\n",
    "\n",
    "Введите заработанную плату в месяц: 100000\n",
    "\n",
    "Введите сколько процентов уходит на ипотеку: 30\n",
    "\n",
    "Введите сколько процентов уходит на жизнь: 50\n",
    "\n",
    "Введите количество премий за год: 2\n",
    "\n",
    "Вывод:\n",
    "На ипотеку было потрачено: 360000 рублей\n",
    "Было накоплено: 340000 рублей"
   ]
  },
  {
   "cell_type": "code",
   "execution_count": 26,
   "metadata": {},
   "outputs": [
    {
     "name": "stdout",
     "output_type": "stream",
     "text": [
      "Введите заработную плату в месяц:100000\n",
      "Введите, сколько процентов уходит на ипотеку:30\n",
      "Введите, сколько процентов уходит на жизнь:50\n",
      "Введите количество премий в год: 2\n",
      "Вывод: На ипотеку потрачено 360000.0 Было накоплено 340000.0\n"
     ]
    }
   ],
   "source": [
    "paycheck_month = int (input (\"Введите заработную плату в месяц:\"))\n",
    "mortgage_share = int (input (\"Введите, сколько процентов уходит на ипотеку:\"))\n",
    "living_share = int (input (\"Введите, сколько процентов уходит на жизнь:\"))\n",
    "incentive_per_year = int (input (\"Введите количество премий в год: \"))\n",
    "paycheck_year = paycheck_month * 12\n",
    "mortgage_year = (paycheck_year / 100) * mortgage_share\n",
    "living_year = (paycheck_year / 100) * living_share\n",
    "incentive_year_savings = (paycheck_month * incentive_per_year) / 2\n",
    "savings = ((paycheck_year - mortgage_year) - living_year) + incentive_year_savings\n",
    "print (\"Вывод: На ипотеку потрачено\" , mortgage_year, \"Было накоплено\" , savings)"
   ]
  }
 ],
 "metadata": {
  "kernelspec": {
   "display_name": "Python 3",
   "language": "python",
   "name": "python3"
  },
  "language_info": {
   "codemirror_mode": {
    "name": "ipython",
    "version": 3
   },
   "file_extension": ".py",
   "mimetype": "text/x-python",
   "name": "python",
   "nbconvert_exporter": "python",
   "pygments_lexer": "ipython3",
   "version": "3.7.3"
  }
 },
 "nbformat": 4,
 "nbformat_minor": 2
}
