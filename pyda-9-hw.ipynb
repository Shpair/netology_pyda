{
 "cells": [
  {
   "cell_type": "code",
   "execution_count": 1,
   "metadata": {},
   "outputs": [],
   "source": [
    "from datetime import datetime \n",
    "from datetime import timedelta"
   ]
  },
  {
   "cell_type": "code",
   "execution_count": null,
   "metadata": {},
   "outputs": [],
   "source": [
    "# Задание 1 "
   ]
  },
  {
   "cell_type": "code",
   "execution_count": 2,
   "metadata": {},
   "outputs": [
    {
     "name": "stdout",
     "output_type": "stream",
     "text": [
      "Введите дату в формате YYYY-MM-DD:2018-05-05\n",
      "Введите дату в формате YYYY-MM-DD:2018-05-15\n",
      "['2018-05-05', '2018-05-06', '2018-05-07', '2018-05-08', '2018-05-09', '2018-05-10', '2018-05-11', '2018-05-12', '2018-05-13', '2018-05-14', '2018-05-15']\n"
     ]
    }
   ],
   "source": [
    "def date_range (start_date, end_date):\n",
    "    start_date_dt = datetime.strptime(start_date, '%Y-%m-%d')\n",
    "    end_date_dt = datetime.strptime(end_date, '%Y-%m-%d')\n",
    "    current_dt = start_date_dt\n",
    "    date_list = []\n",
    "    while current_dt <= end_date_dt:\n",
    "        date_list.append(current_dt.strftime('%Y-%m-%d'))\n",
    "        current_dt += timedelta(days=1)\n",
    "    print(date_list)\n",
    "    \n",
    "input1 = input('Введите дату в формате YYYY-MM-DD:')\n",
    "input2 = input('Введите дату в формате YYYY-MM-DD:')\n",
    "date_range (input1, input2)"
   ]
  },
  {
   "cell_type": "code",
   "execution_count": null,
   "metadata": {},
   "outputs": [],
   "source": [
    "# Задание 2"
   ]
  },
  {
   "cell_type": "code",
   "execution_count": 4,
   "metadata": {},
   "outputs": [
    {
     "name": "stdout",
     "output_type": "stream",
     "text": [
      "Введите дату в формате YYYY-MM-DD:2018-01-05\n",
      "Введите дату в формате YYYY-MM-DD:2018-01-01\n",
      "[]\n"
     ]
    }
   ],
   "source": [
    "date_list = []\n",
    "def validate (start_date, end_date):\n",
    "    try:\n",
    "        datetime.strptime(start_date, '%Y-%m-%d')\n",
    "        datetime.strptime(end_date, '%Y-%m-%d')\n",
    "        datetime.strptime(start_date, '%Y-%m-%d') < datetime.strptime(end_date, '%Y-%m-%d')\n",
    "    except ValueError:\n",
    "        print(date_list)  \n",
    "\n",
    "def date_range2 (start_date, end_date):\n",
    "    start_date_dt = datetime.strptime(start_date, '%Y-%m-%d')\n",
    "    end_date_dt = datetime.strptime(end_date, '%Y-%m-%d')\n",
    "    current_dt = start_date_dt\n",
    "    while current_dt <= end_date_dt:\n",
    "        date_list.append(current_dt.strftime('%Y-%m-%d'))\n",
    "        current_dt += timedelta(days=1)\n",
    "    print(date_list)\n",
    "    \n",
    "input1 = input('Введите дату в формате YYYY-MM-DD:')\n",
    "input2 = input('Введите дату в формате YYYY-MM-DD:')\n",
    "validate (input1, input2)\n",
    "date_range2 (input1, input2)"
   ]
  },
  {
   "cell_type": "code",
   "execution_count": null,
   "metadata": {},
   "outputs": [],
   "source": [
    "# Задание 3"
   ]
  },
  {
   "cell_type": "code",
   "execution_count": 5,
   "metadata": {},
   "outputs": [],
   "source": [
    "stream = ['2018-04-02', '2018-02-29', '2018-19-02']"
   ]
  },
  {
   "cell_type": "code",
   "execution_count": 6,
   "metadata": {},
   "outputs": [
    {
     "data": {
      "text/plain": [
       "[True, False, False]"
      ]
     },
     "execution_count": 6,
     "metadata": {},
     "output_type": "execute_result"
    }
   ],
   "source": [
    "def foo3 (bar):\n",
    "    res_list = []\n",
    "    for date_val in bar:\n",
    "        Result = True\n",
    "        try:\n",
    "            datetime.strptime(date_val, '%Y-%m-%d')\n",
    "        except ValueError:\n",
    "            Result = False\n",
    "        res_list.append(Result)\n",
    "    return res_list\n",
    "\n",
    "foo3(stream)"
   ]
  },
  {
   "cell_type": "code",
   "execution_count": null,
   "metadata": {},
   "outputs": [],
   "source": [
    "# Задание 4"
   ]
  },
  {
   "cell_type": "code",
   "execution_count": 7,
   "metadata": {},
   "outputs": [],
   "source": [
    "line_to_find = ('20', '20552')"
   ]
  },
  {
   "cell_type": "code",
   "execution_count": 8,
   "metadata": {},
   "outputs": [
    {
     "name": "stdout",
     "output_type": "stream",
     "text": [
      "Введите число столбцов для поиска: 2\n",
      "['3', '39156']\n"
     ]
    }
   ],
   "source": [
    "stats_dict = {}\n",
    "def foo4 (input_line):\n",
    "    with open('stats.csv') as f:\n",
    "        for line in f:\n",
    "            line = line.strip().split(',')\n",
    "            stats_dict[tuple(line[:n])] = line[n:]\n",
    "        cost = stats_dict[line_to_find]\n",
    "    print(cost)\n",
    "n = int(input('Введите число столбцов для поиска: '))\n",
    "foo4(line_to_find)"
   ]
  }
 ],
 "metadata": {
  "kernelspec": {
   "display_name": "Python 3",
   "language": "python",
   "name": "python3"
  },
  "language_info": {
   "codemirror_mode": {
    "name": "ipython",
    "version": 3
   },
   "file_extension": ".py",
   "mimetype": "text/x-python",
   "name": "python",
   "nbconvert_exporter": "python",
   "pygments_lexer": "ipython3",
   "version": "3.7.3"
  }
 },
 "nbformat": 4,
 "nbformat_minor": 2
}
